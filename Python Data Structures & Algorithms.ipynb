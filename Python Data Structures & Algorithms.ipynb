{
 "cells": [
  {
   "cell_type": "markdown",
   "metadata": {},
   "source": [
    "```\n",
    "02\n",
    "==\n",
    "\n",
    "Big O is way of comparing two sets of code\n",
    "Example - \n",
    "code 1:\n",
    "let's say we have stopwatch and we run code one and we start the stopwatch\n",
    "and it runs for 15 second\n",
    "\n",
    "code 2:\n",
    "we run code two and code two run 1 mis\n",
    "\n",
    "**Note : based on these we can say code 1 is better than code 2, this is called Time Complexity \n",
    "\n",
    "In addition to time complexity, we measure space complexity \n",
    "- let's say code 1 runs very fast but takes a alot of memory \n",
    "- but code 2 takes much longer to finish but takes less memory Space Complexity \n",
    "\n",
    "Most of the code we will work on time complexity here\n",
    "\n",
    "```"
   ]
  },
  {
   "cell_type": "markdown",
   "metadata": {},
   "source": []
  }
 ],
 "metadata": {
  "kernelspec": {
   "display_name": "Python 3",
   "language": "python",
   "name": "python3"
  },
  "language_info": {
   "codemirror_mode": {
    "name": "ipython",
    "version": 3
   },
   "file_extension": ".py",
   "mimetype": "text/x-python",
   "name": "python",
   "nbconvert_exporter": "python",
   "pygments_lexer": "ipython3",
   "version": "3.11.4"
  }
 },
 "nbformat": 4,
 "nbformat_minor": 2
}
