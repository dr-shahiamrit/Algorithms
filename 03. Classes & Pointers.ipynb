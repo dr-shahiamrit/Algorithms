{
 "cells": [
  {
   "cell_type": "markdown",
   "metadata": {},
   "source": [
    "```\n",
    "# Classes\n",
    "\n",
    "\n",
    "\n",
    "\n",
    "```"
   ]
  },
  {
   "cell_type": "code",
   "execution_count": 3,
   "metadata": {},
   "outputs": [],
   "source": [
    "class Cookie:\n",
    "    def __init__(self, color):\n",
    "        self.color = color\n",
    "\n",
    "cookie_one = Cookie('green')\n",
    "cookie_two = Cookie('blue')"
   ]
  },
  {
   "cell_type": "code",
   "execution_count": 6,
   "metadata": {},
   "outputs": [
    {
     "name": "stdout",
     "output_type": "stream",
     "text": [
      "Cookie one is  green\n",
      "Cookie two is  blue\n"
     ]
    }
   ],
   "source": [
    "class Cookie:\n",
    "    def __init__(self, color):\n",
    "        self.color = color\n",
    "    def get_color(self):\n",
    "        return self.color\n",
    "    def set_color(self, color):\n",
    "        self.color = color\n",
    "cookie_one = Cookie('green')\n",
    "cookie_two = Cookie('blue')\n",
    "\n",
    "print('Cookie one is ', cookie_one.get_color())\n",
    "print('Cookie two is ', cookie_two.get_color())"
   ]
  },
  {
   "cell_type": "code",
   "execution_count": 7,
   "metadata": {},
   "outputs": [
    {
     "name": "stdout",
     "output_type": "stream",
     "text": [
      "\n",
      "Cookie one is  yellow\n",
      "Cookie two is  blue\n"
     ]
    }
   ],
   "source": [
    "class Cookie:\n",
    "    def __init__(self, color):\n",
    "        self.color = color\n",
    "    def get_color(self):\n",
    "        return self.color\n",
    "    def set_color(self, color):\n",
    "        self.color = color\n",
    "cookie_one = Cookie('green')\n",
    "cookie_two = Cookie('blue')\n",
    "\n",
    "cookie_one.set_color('yellow')\n",
    "\n",
    "print('\\nCookie one is ', cookie_one.get_color())\n",
    "print('Cookie two is ', cookie_two.get_color())"
   ]
  },
  {
   "cell_type": "code",
   "execution_count": null,
   "metadata": {},
   "outputs": [],
   "source": []
  }
 ],
 "metadata": {
  "kernelspec": {
   "display_name": "Python 3",
   "language": "python",
   "name": "python3"
  },
  "language_info": {
   "codemirror_mode": {
    "name": "ipython",
    "version": 3
   },
   "file_extension": ".py",
   "mimetype": "text/x-python",
   "name": "python",
   "nbconvert_exporter": "python",
   "pygments_lexer": "ipython3",
   "version": "3.11.4"
  }
 },
 "nbformat": 4,
 "nbformat_minor": 2
}
