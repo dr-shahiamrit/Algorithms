{
 "cells": [
  {
   "cell_type": "markdown",
   "metadata": {},
   "source": [
    "```\n",
    "# Classes\n",
    "\n",
    "\n",
    "\n",
    "\n",
    "```"
   ]
  },
  {
   "cell_type": "code",
   "execution_count": 3,
   "metadata": {},
   "outputs": [],
   "source": [
    "class Cookie:\n",
    "    def __init__(self, color):\n",
    "        self.color = color\n",
    "\n",
    "cookie_one = Cookie('green')\n",
    "cookie_two = Cookie('blue')"
   ]
  },
  {
   "cell_type": "code",
   "execution_count": 6,
   "metadata": {},
   "outputs": [
    {
     "name": "stdout",
     "output_type": "stream",
     "text": [
      "Cookie one is  green\n",
      "Cookie two is  blue\n"
     ]
    }
   ],
   "source": [
    "class Cookie:\n",
    "    def __init__(self, color):\n",
    "        self.color = color\n",
    "    def get_color(self):\n",
    "        return self.color\n",
    "    def set_color(self, color):\n",
    "        self.color = color\n",
    "cookie_one = Cookie('green')\n",
    "cookie_two = Cookie('blue')\n",
    "\n",
    "print('Cookie one is ', cookie_one.get_color())\n",
    "print('Cookie two is ', cookie_two.get_color())"
   ]
  },
  {
   "cell_type": "code",
   "execution_count": 7,
   "metadata": {},
   "outputs": [
    {
     "name": "stdout",
     "output_type": "stream",
     "text": [
      "\n",
      "Cookie one is  yellow\n",
      "Cookie two is  blue\n"
     ]
    }
   ],
   "source": [
    "class Cookie:\n",
    "    def __init__(self, color):\n",
    "        self.color = color\n",
    "    def get_color(self):\n",
    "        return self.color\n",
    "    def set_color(self, color):\n",
    "        self.color = color\n",
    "cookie_one = Cookie('green')\n",
    "cookie_two = Cookie('blue')\n",
    "\n",
    "cookie_one.set_color('yellow')\n",
    "\n",
    "print('\\nCookie one is ', cookie_one.get_color())\n",
    "print('Cookie two is ', cookie_two.get_color())"
   ]
  },
  {
   "cell_type": "markdown",
   "metadata": {},
   "source": [
    "```\n",
    "Pointers \n",
    "\n",
    "num1 = 11\n",
    "num2 = num1\n",
    "\n",
    "So when we do this, we're creating an integer 11 somewhere in memory, and then we point the variables as integer.\n",
    "\n",
    "num1 --> 11\n",
    "num2 = num1\n",
    "\n",
    "num2 also points same 11 in the memory in python\n",
    "\n",
    "\n",
    "```"
   ]
  },
  {
   "cell_type": "code",
   "execution_count": 1,
   "metadata": {},
   "outputs": [
    {
     "name": "stdout",
     "output_type": "stream",
     "text": [
      "Before num2 value is updated: \n",
      "num1 = 11\n",
      "num2 = 11\n",
      "\n",
      "num1 points to: 140732141069416\n",
      "num2 points to: 140732141069416\n"
     ]
    }
   ],
   "source": [
    "num1 = 11\n",
    "num2 = num1\n",
    "\n",
    "print(\"Before num2 value is updated: \")\n",
    "print(\"num1 =\", num1)\n",
    "print(\"num2 =\", num2)\n",
    "\n",
    "print(\"\\nnum1 points to:\", id(num1))\n",
    "print(\"num2 points to:\", id(num2))"
   ]
  },
  {
   "cell_type": "code",
   "execution_count": 2,
   "metadata": {},
   "outputs": [
    {
     "name": "stdout",
     "output_type": "stream",
     "text": [
      "\n",
      "After num2 value is updated: \n",
      "num1 = 11\n",
      "num2 = 22\n",
      "\n",
      "num1 points to:  140732141069416\n",
      "\n",
      "num2 points to:  140732141069768\n"
     ]
    }
   ],
   "source": [
    "num2 = 22\n",
    "\n",
    "print(\"\\nAfter num2 value is updated: \")\n",
    "print(\"num1 =\", num1)\n",
    "print(\"num2 =\", num2)\n",
    "\n",
    "print(\"\\nnum1 points to: \", id(num1))\n",
    "print(\"\\nnum2 points to: \", id(num2))"
   ]
  },
  {
   "cell_type": "code",
   "execution_count": 3,
   "metadata": {},
   "outputs": [],
   "source": [
    "# incase of dict also same issues\n",
    "dict1 = {'value': 11}\n",
    "dict2 = dict1"
   ]
  },
  {
   "cell_type": "code",
   "execution_count": 4,
   "metadata": {},
   "outputs": [
    {
     "name": "stdout",
     "output_type": "stream",
     "text": [
      "Before value is updated:\n",
      "dict1 = {'value': 11}\n",
      "dict2 = {'value': 11}\n",
      "\n",
      "dict1 points to: 2491170931392\n",
      "dict2 points to: 2491170931392\n"
     ]
    }
   ],
   "source": [
    "dict1 = {\n",
    "    'value': 11\n",
    "}\n",
    "dict2 = dict1\n",
    "\n",
    "print(\"Before value is updated:\")\n",
    "print(\"dict1 =\", dict1)\n",
    "print(\"dict2 =\", dict2)\n",
    "\n",
    "print(\"\\ndict1 points to:\", id(dict1))\n",
    "print(\"dict2 points to:\", id(dict2))"
   ]
  },
  {
   "cell_type": "code",
   "execution_count": 6,
   "metadata": {},
   "outputs": [
    {
     "name": "stdout",
     "output_type": "stream",
     "text": [
      "\n",
      "After value is updated:\n",
      "dict1 = {'value': 22}\n",
      "dict2 = {'value': 22}\n",
      "\n",
      "dict1 points to: 2491170931392\n",
      "dict2 points to: 2491170931392\n"
     ]
    }
   ],
   "source": [
    "dict2['value'] = 22\n",
    "\n",
    "print(\"\\nAfter value is updated:\")\n",
    "print(\"dict1 =\", dict1)\n",
    "print(\"dict2 =\", dict2)\n",
    "\n",
    "print(\"\\ndict1 points to:\", id(dict1))\n",
    "print(\"dict2 points to:\", id(dict2))"
   ]
  },
  {
   "cell_type": "code",
   "execution_count": null,
   "metadata": {},
   "outputs": [],
   "source": []
  }
 ],
 "metadata": {
  "kernelspec": {
   "display_name": "Python 3",
   "language": "python",
   "name": "python3"
  },
  "language_info": {
   "codemirror_mode": {
    "name": "ipython",
    "version": 3
   },
   "file_extension": ".py",
   "mimetype": "text/x-python",
   "name": "python",
   "nbconvert_exporter": "python",
   "pygments_lexer": "ipython3",
   "version": "3.11.4"
  }
 },
 "nbformat": 4,
 "nbformat_minor": 2
}
